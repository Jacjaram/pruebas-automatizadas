{
 "cells": [
  {
   "cell_type": "code",
   "execution_count": null,
   "id": "4fbbab53",
   "metadata": {},
   "outputs": [],
   "source": [
    "# Escribe pruebas para la función get(collection, key, default_value), que obtiene un valor de un diccionario si la clave existe. Si no, devuelve default_value:\n",
    "\n",
    "# from functions import get_function\n",
    "# get = get_function()\n",
    "\n",
    "# get({\"hello\": \"world\"}, \"hello\")  # world\n",
    "# get({\"hello\": \"world\"}, \"hello\", \"kitty\")  # world\n",
    "# get({}, \"hello\", \"kitty\")  # kitty\n",
    "# Tareas\n",
    "# Construye las pruebas siguiendo el mismo enfoque explicado en la lección: usando estructuras if para las verificaciones y lanzando una excepción si la prueba falla.\n",
    "\n",
    "# Para un testeo completo, debes escribir al menos tres pruebas que verifiquen lo siguiente:\n",
    "\n",
    "# La función devuelve el valor correcto cuando la clave existe.\n",
    "# Devuelve el valor por defecto si la clave no está presente.\n",
    "# Devuelve el valor correcto para una clave existente, incluso si se pasa un valor por defecto (caso límite).\n",
    "\n",
    "from functions import get_function\n",
    "\n",
    "get = get_function()\n",
    "\n",
    "if get({\"hello\": \"world\"}, \"hello\") != \"world\":\n",
    "    raise Exception(\"Error: La clave existe, pero el valor no es correcto.\")\n",
    "\n",
    "if get({}, \"hello\", \"kitty\") != 'kitty':\n",
    "    raise Exception(\"Error: La clave no existe, pero no se devolvió el valor por defecto.\")\n",
    "\n",
    "if get({\"hello\": \"world\"}, \"hello\", \"kitty\") != \"world\":\n",
    "    raise Exception(\"Error: La clave existe, pero la función devolvió el valor por defecto.\")\n",
    "\n",
    "print(\"Todas las pruebas pasaron correctamente.\")"
   ]
  },
  {
   "cell_type": "code",
   "execution_count": null,
   "id": "42a718e4",
   "metadata": {},
   "outputs": [],
   "source": [
    "if get({\"key\": \"value\"}, \"key\") != \"value\":\n",
    "    raise Exception('Boom!')\n",
    "\n",
    "if get({}, \"key\", \"default\") != \"default\":\n",
    "    raise Exception('Boom!')\n",
    "\n",
    "if get({\"key\": \"value\"}, \"key\", \"default\") != \"value\":\n",
    "    raise Exception('Boom!')"
   ]
  }
 ],
 "metadata": {
  "language_info": {
   "name": "python"
  }
 },
 "nbformat": 4,
 "nbformat_minor": 5
}
